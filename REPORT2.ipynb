{
 "cells": [
  {
   "cell_type": "code",
   "execution_count": null,
   "metadata": {},
   "outputs": [],
   "source": [
    "import matplotlib.pyplot as plt\n",
    "import numpy as np"
   ]
  },
  {
   "cell_type": "code",
   "execution_count": null,
   "metadata": {},
   "outputs": [],
   "source": [
    "static_time = [0.0, 21.0*60.0, 25.0*60.0, 28.0*60.0]\n",
    "static_temp1 = [18.5, 17.2, 17.0, 16.8]\n",
    "static_temp2 = [18.4, 18.2, 18.2, 18.1]\n",
    "\n",
    "plt.plot(static_time, static_temp1, color=\"#0209ef\", label=\"Outer Wall Bottom\", marker=\"o\")\n",
    "plt.plot(static_time, static_temp2, color=\"#f51f07\", label=\"Outer Wall Top\", marker=\"o\")\n",
    "plt.xticks(\n",
    "    ticks=[0.0, 300.0, 600.0, 900.0, 1200.0, 1500.0, 1800.0],\n",
    "    labels=['0', '5', '10', '15', '20', '25', '30'],\n",
    "    fontsize=12\n",
    ")\n",
    "plt.title(\"No Rotation Tank Temperature Profiles\")\n",
    "plt.xlabel(\"Time (minutes)\", fontsize=12)\n",
    "plt.legend(loc=\"lower left\")\n",
    "plt.ylabel(\"Temp. (°C)\", fontsize=12)"
   ]
  }
 ],
 "metadata": {
  "kernelspec": {
   "display_name": "Python 3.8.1 64-bit",
   "language": "python",
   "name": "python3"
  },
  "language_info": {
   "codemirror_mode": {
    "name": "ipython",
    "version": 3
   },
   "file_extension": ".py",
   "mimetype": "text/x-python",
   "name": "python",
   "nbconvert_exporter": "python",
   "pygments_lexer": "ipython3",
   "version": "3.8.1"
  },
  "orig_nbformat": 4,
  "vscode": {
   "interpreter": {
    "hash": "3564471f34e42ee08001168fcdc39b80aa763f352c7baf85b2e78fe67d0c3b26"
   }
  }
 },
 "nbformat": 4,
 "nbformat_minor": 2
}
