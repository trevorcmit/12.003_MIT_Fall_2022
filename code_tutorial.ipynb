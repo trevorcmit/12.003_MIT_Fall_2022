{
 "cells": [
  {
   "cell_type": "code",
   "execution_count": null,
   "metadata": {},
   "outputs": [],
   "source": [
    "import numpy as np\n",
    "import matplotlib.pyplot as plt\n",
    "import sys"
   ]
  },
  {
   "cell_type": "code",
   "execution_count": null,
   "metadata": {},
   "outputs": [],
   "source": [
    "# Part2.m\n",
    "# Trevor Carter\n",
    "a = np.linspace(0, 10, 11)\n",
    "b = np.linspace(0, 9, 10)\n",
    "\n",
    "mult_table = np.zeros((11, 10))\n",
    "\n",
    "for j in range(11):\n",
    "    for i in range(10):\n",
    "        mult_table[j][i] = a[j]*b[i]\n",
    "\n",
    "print(mult_table)"
   ]
  },
  {
   "cell_type": "code",
   "execution_count": null,
   "metadata": {},
   "outputs": [],
   "source": [
    "# Part3.m\n",
    "# Trevor Carter\n",
    "a = np.linspace(0, 10, 11)\n",
    "b = np.linspace(0, 9, 10)\n",
    "\n",
    "mult_table = np.zeros((11, 10))\n",
    "\n",
    "for jj in range(10):\n",
    "    for ii in range(11):\n",
    "        mult_table[ii][jj] = a[ii] * b[jj] if a[ii] >= b[jj] else -1.0\n",
    "\n",
    "print(mult_table)"
   ]
  },
  {
   "cell_type": "code",
   "execution_count": null,
   "metadata": {},
   "outputs": [],
   "source": [
    "# Part4.m\n",
    "# Trevor Carter\n",
    "t = np.linspace(0, 1, 100)\n",
    "a1, a2 = 10, 20\n",
    "d1, d2 = 0.5 * a1 * t**2, 0.5 * a2 * t **2\n",
    "\n",
    "plt.plot(t, d1, label=\"10 km/hr/hr\", linestyle=\"dashed\", color=\"#ff0f0f\")\n",
    "plt.plot(t, d2, label=\"20 km/hr/hr\", linestyle=\"solid\",  color=\"#0d92ff\")\n",
    "plt.legend(loc=\"upper left\")\n",
    "plt.title(\"Accelerations\", fontsize=12, fontweight=\"bold\")\n",
    "plt.xlabel(\"Time (hours)\",  fontsize=10)\n",
    "plt.ylabel(\"Distance (km)\", fontsize=10)\n",
    "plt.savefig(\"accelerations.png\")"
   ]
  },
  {
   "cell_type": "code",
   "execution_count": null,
   "metadata": {},
   "outputs": [],
   "source": [
    "# Part5.m\n",
    "# Trevor Carter\n",
    "xspace = np.linspace(-np.pi, np.pi, 100)\n",
    "yspace = np.linspace(-np.pi, np.pi, 100)\n",
    "\n",
    "zspace = np.zeros((100, 100))\n",
    "\n",
    "# Code for Methodology Presented in Tutorial Document\n",
    "# for x in range(100):\n",
    "#     for y in range(100):\n",
    "#         if xspace[x] > 0.0:\n",
    "#             if yspace[y] > 0.0:\n",
    "#                 zspace[y][x] = np.sin(xspace[x]) * np.sin(yspace[y])\n",
    "#             else:\n",
    "#                 zspace[y][x] = np.sin(xspace[x]) * np.cos(yspace[y])\n",
    "#         else:\n",
    "#             if yspace[y] > 0.0:\n",
    "#                 zspace[y][x] = np.cos(xspace[x]) * np.sin(yspace[y])\n",
    "#             else:\n",
    "#                 zspace[y][x] = np.cos(xspace[x]) * np.cos(yspace[y])\n",
    "\n",
    "# Refactored version for Python Implementation\n",
    "for i,x in enumerate(xspace):\n",
    "    for j,y in enumerate(yspace):\n",
    "        xval = np.sin(x) if x > 0.0 else np.cos(x)\n",
    "        yval = np.sin(y) if y > 0.0 else np.cos(y)\n",
    "        zspace[j][i] = xval * yval\n",
    "\n",
    "plt.contourf(zspace, levels=20)\n",
    "plt.colorbar()\n",
    "plt.contour(zspace, levels=20, colors=\"black\")\n",
    "plt.xticks(\n",
    "    ticks=[0, 24, 49, 74, 99],\n",
    "    labels=[\"-π\", \"-π/2\", \"0\", \"π/2\", \"π\"]\n",
    ")\n",
    "plt.yticks(\n",
    "    ticks=[0, 24, 49, 74, 99],\n",
    "    labels=[\"-π\", \"-π/2\", \"0\", \"π/2\", \"π\"]\n",
    ")\n",
    "plt.ylabel(\"y (nondim)\", fontsize=11)\n",
    "plt.xlabel(\"x (nondim)\", fontsize=11)\n"
   ]
  }
 ],
 "metadata": {
  "kernelspec": {
   "display_name": "Python 3.8.1 64-bit",
   "language": "python",
   "name": "python3"
  },
  "language_info": {
   "codemirror_mode": {
    "name": "ipython",
    "version": 3
   },
   "file_extension": ".py",
   "mimetype": "text/x-python",
   "name": "python",
   "nbconvert_exporter": "python",
   "pygments_lexer": "ipython3",
   "version": "3.8.1"
  },
  "orig_nbformat": 4,
  "vscode": {
   "interpreter": {
    "hash": "3564471f34e42ee08001168fcdc39b80aa763f352c7baf85b2e78fe67d0c3b26"
   }
  }
 },
 "nbformat": 4,
 "nbformat_minor": 2
}
