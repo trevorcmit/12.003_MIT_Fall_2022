{
 "cells": [
  {
   "cell_type": "code",
   "execution_count": null,
   "metadata": {},
   "outputs": [],
   "source": [
    "import matplotlib.pyplot as plt\n",
    "import numpy as np"
   ]
  },
  {
   "cell_type": "code",
   "execution_count": null,
   "metadata": {},
   "outputs": [],
   "source": [
    "def eigenvalues(C_d:float, s_or_d:bool):\n",
    "    term1 = -0.5 * (3.0/4.0e8 + 1.0/C_d)\n",
    "    term2 = 0.5 * np.sqrt(\n",
    "        (3.0/4.0e8 + 1.0/C_d)**2.0 - (4.0*1.0*2.0)/(C_d*4.0e8)\n",
    "    )\n",
    "\n",
    "    if s_or_d:\n",
    "        return term1 - term2 # True -> lambda_s\n",
    "    else:\n",
    "        return term1 + term2 # False -> lambda_d\n",
    "\n",
    "lambda_s_limit = -1.0 * (3.0/4.0e8)"
   ]
  },
  {
   "cell_type": "code",
   "execution_count": null,
   "metadata": {},
   "outputs": [],
   "source": [
    "c_d = np.linspace(4.0e8, 2.0e10, 100)\n",
    "\n",
    "plt.plot(c_d, eigenvalues(c_d, True),  label=r\"$\\lambda_s$\", color=\"#7038fe\", linewidth=3.2)\n",
    "plt.plot(c_d, eigenvalues(c_d, False), label=r\"$\\lambda_d$\", color=\"#3aad00\", linewidth=3.2)\n",
    "\n",
    "plt.plot(c_d, np.full(c_d.shape, lambda_s_limit), color=\"#0e0033\", linestyle=\"--\", linewidth=1.5)\n",
    "plt.plot(c_d, [-1.0*(2.0)/(3.0*c) for c in c_d],  color=\"#013300\", linestyle=\"--\", linewidth=1.5)\n",
    "\n",
    "plt.xlabel(r\"$C_d$\", fontsize=15)\n",
    "plt.ylabel(\"Value of Eigenvalue [Hz]\", fontsize=15)\n",
    "plt.legend()"
   ]
  }
 ],
 "metadata": {
  "kernelspec": {
   "display_name": "Python 3.8.1 64-bit",
   "language": "python",
   "name": "python3"
  },
  "language_info": {
   "codemirror_mode": {
    "name": "ipython",
    "version": 3
   },
   "file_extension": ".py",
   "mimetype": "text/x-python",
   "name": "python",
   "nbconvert_exporter": "python",
   "pygments_lexer": "ipython3",
   "version": "3.8.1"
  },
  "orig_nbformat": 4,
  "vscode": {
   "interpreter": {
    "hash": "3564471f34e42ee08001168fcdc39b80aa763f352c7baf85b2e78fe67d0c3b26"
   }
  }
 },
 "nbformat": 4,
 "nbformat_minor": 2
}
