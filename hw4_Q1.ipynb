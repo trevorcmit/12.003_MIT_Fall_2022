{
 "cells": [
  {
   "cell_type": "code",
   "execution_count": null,
   "metadata": {},
   "outputs": [],
   "source": [
    "import matplotlib.pyplot as plt\n",
    "import numpy as np"
   ]
  },
  {
   "cell_type": "code",
   "execution_count": null,
   "metadata": {},
   "outputs": [],
   "source": [
    "def T(d, T_s, gamma):\n",
    "    return T_s - (10.0e-4 * gamma / 1.42e-7) * (1.0 - np.exp(-1.42e-7 * d / 10.0e-4))"
   ]
  },
  {
   "cell_type": "code",
   "execution_count": null,
   "metadata": {},
   "outputs": [],
   "source": [
    "depth = np.linspace(0.0, -6000.0, 100)\n",
    "plt.plot(T(-1.0*depth, 25.0, 1.0), depth)\n",
    "plt.xlabel('Temperature (C)', fontsize=17)\n",
    "plt.ylabel('Depth (m)', fontsize=17)"
   ]
  },
  {
   "cell_type": "code",
   "execution_count": null,
   "metadata": {},
   "outputs": [],
   "source": [
    "from scipy.integrate import solve_ivp"
   ]
  },
  {
   "cell_type": "code",
   "execution_count": null,
   "metadata": {},
   "outputs": [],
   "source": [
    "t_eval = np.arange(0, 1.0e1, 1.0)\n",
    "\n",
    "F_s = lambda T_s,T_d: 8.0/4.0e8 - 2.0*T_s/4.0e8 - 1.0*(T_s-T_d)/4.0e8\n",
    "F_d = lambda T_s,T_d: 1.0*(T_s-T_d)/10.0e10\n",
    "\n",
    "sols = solve_ivp(F_s, [0, 1.0e1], [0,0], t_eval=t_eval)\n",
    "sold = solve_ivp(F_s, [0, 1.0e1], [0,0], t_eval=t_eval)\n",
    "\n",
    "plt.figure(figsize = (12, 4))\n",
    "plt.plot([0,10], [0,0], 'k--')\n",
    "plt.plot(sols.t, sols.y[0], linewidth=2.0, label=\"T_S response\")\n",
    "plt.plot(sold.t, sold.y[0], linestyle=\"--\", label=\"T_D response\")\n",
    "plt.legend()"
   ]
  }
 ],
 "metadata": {
  "kernelspec": {
   "display_name": "Python 3.8.1 64-bit",
   "language": "python",
   "name": "python3"
  },
  "language_info": {
   "codemirror_mode": {
    "name": "ipython",
    "version": 3
   },
   "file_extension": ".py",
   "mimetype": "text/x-python",
   "name": "python",
   "nbconvert_exporter": "python",
   "pygments_lexer": "ipython3",
   "version": "3.8.1"
  },
  "orig_nbformat": 4,
  "vscode": {
   "interpreter": {
    "hash": "3564471f34e42ee08001168fcdc39b80aa763f352c7baf85b2e78fe67d0c3b26"
   }
  }
 },
 "nbformat": 4,
 "nbformat_minor": 2
}
